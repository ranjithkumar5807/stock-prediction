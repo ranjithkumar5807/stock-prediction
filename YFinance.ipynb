{
 "cells": [
  {
   "cell_type": "code",
   "execution_count": 3,
   "id": "e7e289c7-14f5-4af9-b60c-906b15dc315b",
   "metadata": {},
   "outputs": [],
   "source": [
    "import yfinance as yf\n",
    "import pandas as pd\n",
    "import pandas_ta as ta\n",
    "import numpy as np"
   ]
  },
  {
   "cell_type": "code",
   "execution_count": 11,
   "id": "44001995-47a5-4bac-8f40-4a315335d7da",
   "metadata": {},
   "outputs": [],
   "source": [
    "def download_historic_data(ticker):\n",
    "    \"\"\"It saves the data from 2006 to current date\n",
    "    in csv file in current directory\"\"\"\n",
    "    \n",
    "    from datetime import datetime\n",
    "    current_date = datetime.now()\n",
    "    current_date = current_date.strftime(\"%Y-%m-%d\")\n",
    "    \n",
    "    data = yf.download(ticker, start=\"2000-01-01\", end=\"2024-12-30\")\n",
    "    data.reset_index(inplace=True)\n",
    "\n",
    "    data = data.rename(columns={\n",
    "        'Date': 'date',\n",
    "        'Open': 'open',\n",
    "        'High': 'high',\n",
    "        'Low': 'low',\n",
    "        'Close': 'close',\n",
    "        'Volume': 'volume'\n",
    "    })\n",
    "    data['date']=pd.to_datetime(data['date'])\n",
    "    \n",
    "\n",
    "    csv_file = f'raw data/{ticker}_data.csv'\n",
    "    data.to_csv(csv_file, index=False)  # index=False to exclude the default pandas index\n",
    "    del_sec_row(csv_file)\n",
    "    print(f\"TCS data saved to {csv_file}\")\n",
    "   \n",
    "\n",
    "def del_sec_row(file_path):\n",
    "    import csv\n",
    "    \n",
    "    # Read and write in one go, skipping the second row\n",
    "    with open(file_path, mode=\"r\", newline=\"\", encoding=\"utf-8\") as file:\n",
    "        rows = list(csv.reader(file))  # Load all rows\n",
    "    \n",
    "    # Remove the second row\n",
    "    if len(rows) > 1:\n",
    "        rows.pop(1)\n",
    "    \n",
    "    # Save the updated rows back to the file\n",
    "    with open(file_path, mode=\"w\", newline=\"\", encoding=\"utf-8\") as file:\n",
    "        csv.writer(file).writerows(rows)\n",
    "    \n",
    "    \n",
    "    "
   ]
  },
  {
   "cell_type": "code",
   "execution_count": 15,
   "id": "437ce969-d671-4d46-b29e-8a1c9eeba531",
   "metadata": {},
   "outputs": [
    {
     "name": "stderr",
     "output_type": "stream",
     "text": [
      "[*********************100%***********************]  1 of 1 completed"
     ]
    },
    {
     "name": "stdout",
     "output_type": "stream",
     "text": [
      "TCS data saved to raw data/MRF.NS_data.csv\n"
     ]
    },
    {
     "name": "stderr",
     "output_type": "stream",
     "text": [
      "\n"
     ]
    }
   ],
   "source": [
    "download_historic_data(\"MRF.NS\")"
   ]
  },
  {
   "cell_type": "code",
   "execution_count": 17,
   "id": "53d83a43-bef2-4a34-a610-bcf8602303f3",
   "metadata": {},
   "outputs": [],
   "source": [
    "def technical_generator(ticker):\n",
    "    file_path=f'raw data/{ticker}_data.csv'\n",
    "    data=pd.read_csv(file_path)\n",
    "\n",
    "\n",
    "    data['date'] = pd.to_datetime(data['date'])\n",
    "    data['year'] = data['date'].dt.year\n",
    "    data['month'] = data['date'].dt.month\n",
    "    data['day'] = data['date'].dt.day\n",
    "    data['dayofweek'] = data['date'].dt.dayofweek\n",
    "    data['quarter'] = data['date'].dt.quarter\n",
    "    data['dayofyear'] = data['date'].dt.dayofyear\n",
    "    data['%change']=(data['close']-data['open'])/data['open']*100\n",
    "\n",
    "    \n",
    "    # date is as index    \n",
    "    data.set_index('date', inplace=True)\n",
    "    \n",
    "\n",
    "    # Assuming your data is loaded in the DataFrame 'data'\n",
    "    # Ensure the date column is in datetime format and set it as index\n",
    "    \n",
    "    \n",
    "    # Assuming 'data' is your DataFrame and 'date' is the index\n",
    "    # Ensure the 'close' column is properly formatted as numeric\n",
    "    data['close'] = pd.to_numeric(data['close'], errors='coerce')\n",
    "    \n",
    "    # Fill any NaN values that may appear (using .ffill)\n",
    "    data['close'] = data['close'].ffill()\n",
    "    \n",
    "    \n",
    "    \n",
    "    # Calculate MACD using pandas_ta\n",
    "    macd_result = ta.macd(data['close'], fast=12, slow=26, signal=9)\n",
    "    \n",
    "    # Add MACD components to the data\n",
    "    data['MACD'] = macd_result['MACD_12_26_9']\n",
    "    data['MACD_signal'] = macd_result['MACDs_12_26_9']\n",
    "    data['MACD_hist'] = macd_result['MACDh_12_26_9']\n",
    "    \n",
    "    # 2. Calculate RSI (Relative Strength Index)\n",
    "    data['RSI'] = ta.rsi(data['close'], length=14)\n",
    "    \n",
    "    # Step 2: Recalculate VWAP after setting 'date' as the index\n",
    "    data['VWAP'] = ta.vwap(high=data['high'], low=data['low'], close=data['close'], volume=data['volume'])\n",
    "    \n",
    "    # Calculate Bollinger Bands (returns a DataFrame, not individual series)\n",
    "    bbands = ta.bbands(data['close'], length=20, std=2)\n",
    "    \n",
    "    \n",
    "    # Extract the individual bands from the result\n",
    "    data['BB_upper'] = bbands['BBL_20_2.0']\n",
    "    data['BB_middle'] = bbands['BBM_20_2.0']\n",
    "    data['BB_lower'] = bbands['BBU_20_2.0']\n",
    "\n",
    "    \n",
    "    # 4. Calculate On-Balance Volume (OBV)\n",
    "    data['OBV'] = ta.obv(data['close'], data['volume'])\n",
    "\n",
    "    \n",
    "    # Default parameters for AF (Acceleration Factor) are 0.02 and maximum AF is 0.2\n",
    "    # Calculate Parabolic SAR\n",
    "    # pandas_ta.psar returns multiple columns: `PSARl_0.02_0.2`, `PSARs_0.02_0.2`, and `PSAR_0.02_0.2`\n",
    "    psar = ta.psar(data['high'], data['low'], data['close'], step=0.02, max_step=0.2)\n",
    "\n",
    "    \n",
    "    # Combine PSARl and PSARs into a single column\n",
    "    data['PSAR'] = psar['PSARl_0.02_0.2'].combine_first(psar['PSARs_0.02_0.2'])\n",
    "\n",
    "\n",
    "    # 5. Calculate ATR (Average True Range)\n",
    "    data['ATR'] = ta.atr(data['high'], data['low'], data['close'], length=14)\n",
    "\n",
    "\n",
    "\n",
    "    # 6. Calculate 5, 8, 13-period EMAs\n",
    "    data['EMA_5'] = ta.ema(data['close'], length=5)\n",
    "    data['EMA_8'] = ta.ema(data['close'], length=8)\n",
    "    data['EMA_13'] = ta.ema(data['close'], length=13)\n",
    "\n",
    "\n",
    "    # Calculate Ichimoku Cloud\n",
    "    ichimoku = ta.ichimoku(data['high'], data['low'], data['close'], window1=9, window2=26, window3=52)\n",
    "    # Extract Ichimoku components\n",
    "    data['Tenkan-sen'] = ichimoku[0]['ITS_9']  # Conversion Line\n",
    "    data['Kijun-sen'] = ichimoku[0]['IKS_26']  # Base Line\n",
    "    data['Chikou Span'] = ichimoku[0]['ICS_26']  # Lagging Span\n",
    "\n",
    "        \n",
    "\n",
    "    # Calculate CCI Commodity Channel Index (CCI) \n",
    "    data['CCI'] = ta.cci(data['high'], data['low'], data['close'], length=20)\n",
    "\n",
    "\n",
    "\n",
    "    # Reset index to make 'date' a regular column\n",
    "    data = data.reset_index()\n",
    "\n",
    "\n",
    "    # data=data_reset.dropna() \n",
    "    \n",
    "    # Save the DataFrame to a CSV file\n",
    "    new_file=f'technical indicators/{ticker}_indicators.csv'\n",
    "    data.to_csv(new_file, index=False)\n",
    "    print(f\"TCS data saved to {new_file}\")\n",
    "\n",
    "        "
   ]
  },
  {
   "cell_type": "code",
   "execution_count": 21,
   "id": "4276290f-f11b-4fd2-a74d-d49b4732e28d",
   "metadata": {},
   "outputs": [
    {
     "name": "stdout",
     "output_type": "stream",
     "text": [
      "TCS data saved to technical indicators/MRF.NS_indicators.csv\n"
     ]
    }
   ],
   "source": [
    "technical_generator(\"MRF.NS\")"
   ]
  },
  {
   "cell_type": "code",
   "execution_count": null,
   "id": "6c9791af-1e60-4215-bb58-89ac8da7de6b",
   "metadata": {},
   "outputs": [],
   "source": []
  }
 ],
 "metadata": {
  "kernelspec": {
   "display_name": "Python 3 (ipykernel)",
   "language": "python",
   "name": "python3"
  },
  "language_info": {
   "codemirror_mode": {
    "name": "ipython",
    "version": 3
   },
   "file_extension": ".py",
   "mimetype": "text/x-python",
   "name": "python",
   "nbconvert_exporter": "python",
   "pygments_lexer": "ipython3",
   "version": "3.12.4"
  }
 },
 "nbformat": 4,
 "nbformat_minor": 5
}
